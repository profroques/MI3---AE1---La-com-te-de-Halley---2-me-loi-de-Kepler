{
 "cells": [
  {
   "cell_type": "markdown",
   "metadata": {},
   "source": [
    "<div class=\"panel panel-primary\">\n",
    "    <div class=\"panel-heading\"><h2>Préambule :</h2></div>\n",
    "      <div class=\"panel-body\">\n",
    "Dans cette interface, vous allez découvrir des blocs de code qui composent un programme informatique complet.\n",
    "\n",
    "Afin de vous permettre de vous initier au codage et de vous faire participer à compléter ce programme informatique, le programme sera fragmenté par blocs. \n",
    "\n",
    "Ainsi, vous serez sollicité.e.s pour deux types d'action. <br>\n",
    "- un travail pour <i>exécuter</i> un bloc de programme informatique ;<br>\n",
    "- un travail pour <i>compléter</i> un bloc de programme informatique.<br>\n",
    "<br>\n",
    "Avant de commencer à découvrir le contenu du programme informatique proposé, je vous invite à prendre connaissance des différents types de consignes et des codes couleurs associés que vous allez rencontrer.\n",
    "      </div>\n",
    "</div>"
   ]
  },
  {
   "cell_type": "markdown",
   "metadata": {},
   "source": [
    "<div class=\"alert alert-info\" role=\"alert\">\n",
    "<b>Informations pour exécuter un bloc de programme informatique : </b> <br>\n",
    "<br><i>Avant</i> les blocs de programme qu'il faut simplément \"exécuter\", vous trouverez :<br>\n",
    "la consigne de travail sur un fond bleu avec une écriture en bleu foncé comme pour cette consigne.<br>\n",
    "\n",
    "Pour Exécuter le code dans un bloc de programme, il faut le sélectionner en cliquant sur la cellule du bloc, puis cliquer sur le bouton Run (ou Exécuter) <b>en haut de la page</b> ou bien en cliquant sur la flèche à côté de In (ou Entrée) si vous êtes sur tablettes ou smartphones.\n",
    "</div>"
   ]
  },
  {
   "cell_type": "markdown",
   "metadata": {},
   "source": [
    "<div class=\"alert alert-warning\">\n",
    "<b>Informations pour compléter un bloc de programme informatique: </b> <br>\n",
    "Certains blocs de codes doivent être complétés <span style='border:1px outset black'>avant</span> d'être exécutés afin de fonctionner convenablement.<br>\n",
    "<br><i>Avant</i> les blocs de programme qu'il faut \"compléter\", vous trouverez:\n",
    "<br> -la consigne de travail sur un fond jaune avec une écriture en brun - comme pour cette consigne.\n",
    "<br>-Dans le bloc de programme à compléter vous remplacerez la mention \"-----A COMPLETER-----\" par le code adapté.\n",
    "<br>-Dans certains cas, il est possible d'avoir des aides et/ou la solution.\n",
    "<br><b>ATTENTION : Une fois le programme complété, il faut alors exécuter le bloc de code correspondant.</b>\n",
    "</div>"
   ]
  },
  {
   "cell_type": "markdown",
   "metadata": {},
   "source": [
    "<h1> INTERFACE - Tracer l'évolution temporelle des énergies cinétique, potentielle de pesanteur et mécanique au cours du temps - Term Spé PhyChim</h1>"
   ]
  },
  {
   "cell_type": "markdown",
   "metadata": {},
   "source": [
    "<div class=\"panel panel-default\">\n",
    "      <div class=\"panel-heading\"><h2>Tracer l'évolution temporelle des énergies cinétique, potentielle de pesanteur et mécanique au cours du temps - Term Spé PhyChim</h2></div>\n",
    "       <div class=\"panel-body\">Tout d'abord, un rappel : ce programme a pour but de tracer  l'évolution temporelle des énergies cinétique, potentielle de pesanteur et mécanique au cours du temps d'une bille en chute verticale dans un liquide visqueux </div>\n",
    "<div class=\"panel-body\">           \n",
    "Dans cette interface, vous allez découvrir des blocs de code qui composent un programme informatique. Ce programme a pour but :</div>\n",
    "<div class=\"panel-body\">     \n",
    "1] de demander à l'opératrice ou à l'opérateur d'importer la librairie \"pyplot\" permettant de réaliser des tracés et numpy pour réaliser des calculer, puis de créer des listes pour des variables temps, vitesses et les différentes énergies étudiées.\n",
    "    </div>\n",
    "<div class=\"panel-body\">     \n",
    "2] de demander à l'opératrice ou à l'opérateur de modifier un bloc de programme pour calculer la vitesse de la bille ainsi que les différentes énergies étudiées.\n",
    "    </div>\n",
    "\n",
    "<div class=\"panel-body\">     \n",
    "4] d'exécuter un bloc pour tracer les évolutions temporelles de Ec, Epp et Em.\n",
    "    </div>\n",
    "\n",
    "<div class=\"panel-body\"> \n",
    "L'intégralité du programme (à compléter) est disponible dans l'énoncé du TP.          \n",
    "Afin de vous permettre de vous initier au codage et de vous faire participer pour compléter ce programme informatique, le programme sera donc fragmenté par bloc selon les modalités et consignes d'usages rappelées au début de cette page. \n",
    "    <br>"
   ]
  },
  {
   "cell_type": "markdown",
   "metadata": {},
   "source": [
    "<div class=\"alert alert-info\" role=\"alert\">\n",
    "<b>TRAVAIL À FAIRE POUR EXÉCUTER LE BLOC SUIVANT </b> <br>\n",
    "<br>\n",
    "    Le bloc de programme suivant d'importer la librairie pyplot qui permet de faire des tracés et numpy pour des calculs spécifiques.\n",
    "    \n",
    "<br>\n",
    "De plus, on créée des listes pour la vitesse (V), les instants (tg), l'énergie cinétique (Ec), l'énergie potentielle de pensanteur (Ep) et l'énergie mécanique (Em). Pour l'instant, ce sont des \"tableaux\" vides qui se rempliront par la suite.\n",
    "<br>\n",
    "\n",
    "<br>\n",
    "<br>\n",
    "Exécuter le bloc en faisant un \"clic gauche\" sur ce bloc puis en choisissant \"Exécuter\" dans la barre d'outils.\n",
    "<br>\n",
    "<br>\n",
    "\n",
    "</div>"
   ]
  },
  {
   "cell_type": "code",
   "execution_count": 6,
   "metadata": {},
   "outputs": [
    {
     "ename": "IndexError",
     "evalue": "list index out of range",
     "output_type": "error",
     "traceback": [
      "\u001b[0;31m---------------------------------------------------------------------------\u001b[0m",
      "\u001b[0;31mIndexError\u001b[0m                                Traceback (most recent call last)",
      "\u001b[0;32m<ipython-input-6-c7a738c5ec65>\u001b[0m in \u001b[0;36m<module>\u001b[0;34m\u001b[0m\n\u001b[1;32m     56\u001b[0m \u001b[0;32mfor\u001b[0m \u001b[0mi2\u001b[0m \u001b[0;32min\u001b[0m \u001b[0mrange\u001b[0m\u001b[0;34m(\u001b[0m\u001b[0mDelta_t2\u001b[0m\u001b[0;34m)\u001b[0m\u001b[0;34m:\u001b[0m\u001b[0;34m\u001b[0m\u001b[0;34m\u001b[0m\u001b[0m\n\u001b[1;32m     57\u001b[0m \u001b[0;31m# Calcul des longueur des cotés des triangles\u001b[0m\u001b[0;34m\u001b[0m\u001b[0;34m\u001b[0m\u001b[0;34m\u001b[0m\u001b[0m\n\u001b[0;32m---> 58\u001b[0;31m         \u001b[0mlong1b\u001b[0m \u001b[0;34m=\u001b[0m \u001b[0mm\u001b[0m\u001b[0;34m.\u001b[0m\u001b[0msqrt\u001b[0m\u001b[0;34m(\u001b[0m\u001b[0;34m(\u001b[0m\u001b[0mX\u001b[0m\u001b[0;34m[\u001b[0m\u001b[0mt3\u001b[0m\u001b[0;34m+\u001b[0m\u001b[0mi2\u001b[0m\u001b[0;34m]\u001b[0m\u001b[0;34m)\u001b[0m\u001b[0;34m**\u001b[0m\u001b[0;36m2\u001b[0m\u001b[0;34m+\u001b[0m\u001b[0;34m(\u001b[0m\u001b[0mY\u001b[0m\u001b[0;34m[\u001b[0m\u001b[0mt3\u001b[0m\u001b[0;34m+\u001b[0m\u001b[0mi2\u001b[0m\u001b[0;34m]\u001b[0m\u001b[0;34m)\u001b[0m\u001b[0;34m**\u001b[0m\u001b[0;36m2\u001b[0m\u001b[0;34m)\u001b[0m\u001b[0;34m\u001b[0m\u001b[0;34m\u001b[0m\u001b[0m\n\u001b[0m\u001b[1;32m     59\u001b[0m         \u001b[0mlong2b\u001b[0m \u001b[0;34m=\u001b[0m \u001b[0mm\u001b[0m\u001b[0;34m.\u001b[0m\u001b[0msqrt\u001b[0m\u001b[0;34m(\u001b[0m\u001b[0;34m(\u001b[0m\u001b[0mX\u001b[0m\u001b[0;34m[\u001b[0m\u001b[0mt4\u001b[0m\u001b[0;34m+\u001b[0m\u001b[0mi2\u001b[0m\u001b[0;34m]\u001b[0m\u001b[0;34m)\u001b[0m\u001b[0;34m**\u001b[0m\u001b[0;36m2\u001b[0m\u001b[0;34m+\u001b[0m\u001b[0;34m(\u001b[0m\u001b[0mY\u001b[0m\u001b[0;34m[\u001b[0m\u001b[0mt4\u001b[0m\u001b[0;34m+\u001b[0m\u001b[0mi2\u001b[0m\u001b[0;34m]\u001b[0m\u001b[0;34m)\u001b[0m\u001b[0;34m**\u001b[0m\u001b[0;36m2\u001b[0m\u001b[0;34m)\u001b[0m\u001b[0;34m\u001b[0m\u001b[0;34m\u001b[0m\u001b[0m\n\u001b[1;32m     60\u001b[0m         \u001b[0mlong3b\u001b[0m \u001b[0;34m=\u001b[0m \u001b[0mm\u001b[0m\u001b[0;34m.\u001b[0m\u001b[0msqrt\u001b[0m\u001b[0;34m(\u001b[0m\u001b[0;34m(\u001b[0m\u001b[0mX\u001b[0m\u001b[0;34m[\u001b[0m\u001b[0mt4\u001b[0m\u001b[0;34m+\u001b[0m\u001b[0mi2\u001b[0m\u001b[0;34m]\u001b[0m\u001b[0;34m-\u001b[0m\u001b[0mX\u001b[0m\u001b[0;34m[\u001b[0m\u001b[0mt3\u001b[0m\u001b[0;34m+\u001b[0m\u001b[0mi2\u001b[0m\u001b[0;34m]\u001b[0m\u001b[0;34m)\u001b[0m\u001b[0;34m**\u001b[0m\u001b[0;36m2\u001b[0m\u001b[0;34m+\u001b[0m\u001b[0;34m(\u001b[0m\u001b[0mY\u001b[0m\u001b[0;34m[\u001b[0m\u001b[0mt4\u001b[0m\u001b[0;34m+\u001b[0m\u001b[0mi2\u001b[0m\u001b[0;34m]\u001b[0m\u001b[0;34m-\u001b[0m\u001b[0mY\u001b[0m\u001b[0;34m[\u001b[0m\u001b[0mt3\u001b[0m\u001b[0;34m+\u001b[0m\u001b[0mi2\u001b[0m\u001b[0;34m]\u001b[0m\u001b[0;34m)\u001b[0m\u001b[0;34m**\u001b[0m\u001b[0;36m2\u001b[0m\u001b[0;34m)\u001b[0m\u001b[0;34m\u001b[0m\u001b[0;34m\u001b[0m\u001b[0m\n",
      "\u001b[0;31mIndexError\u001b[0m: list index out of range"
     ]
    }
   ],
   "source": [
    "import matplotlib.pyplot as plt\n",
    "import numpy as np\n",
    "import math as m\n",
    "import scipy.optimize as op \n",
    "\n",
    "#déclaration des listes\n",
    "t,M,u,theta,R,X,Y = [],[],[],[],[],[],[]\n",
    "\n",
    " # Données d’astronomie de la comète de Haley\n",
    "# Le nombre de points précédent (40) est insuffisant car l'orbite de la comète de Haley est très excentrée\n",
    "# Plus le nombre de points est important plus la loi des aires est vérifiée, car le calcul de l'aire est issu d'une approximation.\n",
    "\n",
    "T_rev = 76.09 #période de révolution de la comète (an) \n",
    "e = 0.967 # excentricité\n",
    "a =17.83# demi grand axe en (UA)\n",
    "N = 20000 # Nombre de positions augmenté\n",
    "\n",
    "# résolution des équations de Kepler \n",
    "# détermination de la position de l'astre autour de son orbite\n",
    "for i in range(N):\n",
    "\tt.append(i*T_rev /N)\n",
    "\tM.append(2*m.pi/T_rev *t[i]) \n",
    "\tu.append(float(op.fsolve (lambda x:x-e*m.sin(x)-M[i],0) ))\n",
    "# Calcul des coordonnées polaires\n",
    "\ttheta.append(2*m.atan((m.sqrt((1+e)/ (1-e))*m.tan(u[i]/2))))\n",
    "\tR.append(a*(1-e**2)/(1+e*m.cos(theta[i]))) \n",
    "# calcul des corrdonnées cartésiennes\n",
    "\tX.append(R[i]*m.cos(theta[i])) \n",
    "\tY.append(R[i]*m.sin(theta[i]))\n",
    "\n",
    "# Aires des triangles\n",
    "# t1,t2 dates première aire et t2, t3 date de la seconde aire \n",
    "t1,t2 = 0,2 # intervalle entre la position 0 et 2\n",
    "t3,t4 = 10000,10002 # intervalle entre la position 10 et 12 de l'orbite\n",
    "# les positions peuvent changer mais l'intervalle entre deux dates doit rester le même\n",
    "\n",
    "\n",
    "AIRE1,AIRE2 = 0,0 # initialisation des aires\n",
    "i1,i2 = 0,0 \n",
    "\n",
    "#calcul de l’aire balayée entre t1 et t2\t\n",
    "Delta_t1 =t2-t1 # calcul de l'intevalle de temps\n",
    "for i1 in range(Delta_t1):\n",
    "# Calcul des longueur des cotés des triangles\n",
    "\tlong1 = m.sqrt((X[t1+i1])**2+(Y[t1+i1])**2)\n",
    "\tlong2 = m.sqrt((X[t2+i1])**2+(Y[t2+i1])**2)\n",
    "\tlong3 = m.sqrt((X[t2+i1]-X[t1+i1])**2+(Y[t2+i1]-Y[t1+i1])**2) \n",
    "# calcul du demi périmètre\n",
    "\tS_1 = 1/2*(long1+long2+long3)\n",
    "# Calcul de l'aire par la formule de Héron\n",
    "\tAIRE1 = m.sqrt(S_1*(S_1-long1)*(S_1-long2)*(S_1-long3))+AIRE1\n",
    "\t\n",
    "#calcul de l’aire balayée entre t2 et t3 \n",
    "Delta_t2 =t4-t3 # calcul de l'intevalle de temps\n",
    "\n",
    "for i2 in range(Delta_t2):\n",
    "# Calcul des longueur des cotés des triangles\n",
    "\tlong1b = m.sqrt((X[t3+i2])**2+(Y[t3+i2])**2)\n",
    "\tlong2b = m.sqrt((X[t4+i2])**2+(Y[t4+i2])**2)\n",
    "\tlong3b = m.sqrt((X[t4+i2]-X[t3+i2])**2+(Y[t4+i2]-Y[t3+i2])**2)\n",
    "\n",
    "# calcul du demi périmètre\n",
    "\tS_1b = 1/2*(long1b+long2b+long3b)\n",
    "\n",
    "# Calcul de l'aire par la formule de Héron\n",
    "\tAIRE2 = m.sqrt(S_1b*(S_1b-long1b)*(S_1b-long2b)*(S_1b-long3b)) +AIRE2\n",
    "\n",
    "#Affichage de l'aire calculée (unité : UA au carré)\n",
    "print('aire balayée entre t1 et t2 --> ' + str(AIRE1)) \n",
    "print('aire balayée entre t3 et t4 --> ' + str(AIRE2))\n",
    "\n",
    "#affichage de l’orbite \n",
    "plt.grid(True) \n",
    "plt.xlabel(\"distance (U.A)\") \n",
    "plt.ylabel(\"distance (U.A)\") \n",
    "plt.axis('equal')\n",
    "plt.plot(X,Y,\"bo\") \n",
    "plt.plot(0,0,\"go\")\n",
    "plt.show()"
   ]
  },
  {
   "cell_type": "code",
   "execution_count": null,
   "metadata": {},
   "outputs": [],
   "source": []
  },
  {
   "cell_type": "code",
   "execution_count": null,
   "metadata": {},
   "outputs": [],
   "source": []
  }
 ],
 "metadata": {
  "kernelspec": {
   "display_name": "Python 3",
   "language": "python",
   "name": "python3"
  },
  "language_info": {
   "codemirror_mode": {
    "name": "ipython",
    "version": 3
   },
   "file_extension": ".py",
   "mimetype": "text/x-python",
   "name": "python",
   "nbconvert_exporter": "python",
   "pygments_lexer": "ipython3",
   "version": "3.7.4"
  }
 },
 "nbformat": 4,
 "nbformat_minor": 2
}
